{
 "cells": [
  {
   "cell_type": "code",
   "execution_count": 2,
   "metadata": {
    "collapsed": true
   },
   "outputs": [],
   "source": [
    "from nn_toxic_words_classifier import train_model\n",
    "from nn_toxic_words_classifier import load_model\n",
    "\n",
    "# model = train_model()\n",
    "# Or load the weights:\n",
    "model = load_model()"
   ]
  },
  {
   "cell_type": "code",
   "execution_count": 3,
   "outputs": [],
   "source": [
    "import pandas as pd\n",
    "\n",
    "dataset_path = '/Users/damirabdulaev/Downloads/filtered.tsv'\n",
    "df = pd.read_csv(dataset_path, sep='\\t')\n",
    "df = df[(df['similarity'] > 0.8) & (df['ref_tox'] > df['trn_tox'])]"
   ],
   "metadata": {
    "collapsed": false
   }
  },
  {
   "cell_type": "code",
   "execution_count": 4,
   "outputs": [
    {
     "name": "stderr",
     "output_type": "stream",
     "text": [
      "[nltk_data] Downloading package wordnet to\n",
      "[nltk_data]     /Users/damirabdulaev/nltk_data...\n",
      "[nltk_data]   Package wordnet is already up-to-date!\n"
     ]
    },
    {
     "data": {
      "text/plain": "True"
     },
     "execution_count": 4,
     "metadata": {},
     "output_type": "execute_result"
    }
   ],
   "source": [
    "import nltk\n",
    "from nltk.corpus import wordnet\n",
    "\n",
    "nltk.download('wordnet')"
   ],
   "metadata": {
    "collapsed": false
   }
  },
  {
   "cell_type": "code",
   "execution_count": 8,
   "outputs": [
    {
     "name": "stderr",
     "output_type": "stream",
     "text": [
      "  0%|          | 10/108569 [00:00<01:00, 1794.97it/s]"
     ]
    },
    {
     "name": "stdout",
     "output_type": "stream",
     "text": [
      "Original Sentence:\n",
      "Real life starts the first time you fuck, kid.\n",
      "Reconstructed Sentence:\n",
      "real life starts the first time you [MASK], kid.\n",
      "Original Sentence:\n",
      "Hey, leave the poor bastard alone!\n",
      "Reconstructed Sentence:\n",
      "hey, leave the [MASK] [MASK] [MASK]!\n",
      "Original Sentence:\n",
      "It told you this was a waste of my fucking time.\n",
      "Reconstructed Sentence:\n",
      "[MASK] told you this [MASK] [MASK] [MASK] of my [MASK] time.\n",
      "Original Sentence:\n",
      "I swear to God, the best thing I ever did in my life was save that little son of a bitch\n",
      "Reconstructed Sentence:\n",
      "i swear [MASK] god, the best [MASK] i ever did in my life [MASK] save that [MASK] [MASK] of [MASK] [MASK]\n",
      "Original Sentence:\n",
      "The guy is totally irresponsible.\n",
      "Reconstructed Sentence:\n",
      "the [MASK] is [MASK] ir [MASK]ponsible.\n",
      "Original Sentence:\n",
      "\"Do you want to die?\" he said.\n",
      "Reconstructed Sentence:\n",
      "\" [MASK] you want [MASK] [MASK]? \" [MASK] said.\n",
      "Original Sentence:\n",
      "Does anal...\n",
      "Reconstructed Sentence:\n",
      "[MASK] [MASK]...\n",
      "Original Sentence:\n",
      "Your girlfriends are dead.\n",
      "Reconstructed Sentence:\n",
      "[MASK] girlfriends are [MASK].\n",
      "Original Sentence:\n",
      "Mikael was braver, or more foolhardy!\n",
      "Reconstructed Sentence:\n",
      "mika [MASK] [MASK] braver, [MASK] [MASK] foolhard [MASK]!\n",
      "Original Sentence:\n",
      "What the hell is going on?\n",
      "Reconstructed Sentence:\n",
      "what the [MASK] is going [MASK]?\n",
      "Original Sentence:\n",
      "I don't have to do shit.\n",
      "Reconstructed Sentence:\n",
      "i [MASK]'[MASK] have [MASK] [MASK] [MASK].\n"
     ]
    },
    {
     "name": "stderr",
     "output_type": "stream",
     "text": [
      "\n"
     ]
    }
   ],
   "source": [
    "from nn_toxic_words_classifier import build_tokenizer\n",
    "import string\n",
    "from tqdm import tqdm\n",
    "import torch\n",
    "import torch.nn as nn\n",
    "import torch.optim as optim\n",
    "\n",
    "# Extract and process the first 5 sentences\n",
    "sentences = df['reference'].tolist()\n",
    "tokenizer = build_tokenizer()[0]\n",
    "\n",
    "# Define a threshold for toxic word prediction (adjust as needed)\n",
    "toxic_threshold = 0.7\n",
    "temp = 0\n",
    "\n",
    "# Define a set of punctuation marks\n",
    "punctuation_set = set(string.punctuation)\n",
    "\n",
    "model.eval()\n",
    "\n",
    "# Process and replace toxic words\n",
    "for sentence in tqdm(sentences):\n",
    "    encoded_dict = tokenizer(sentence)\n",
    "    tokens = encoded_dict['input_ids']\n",
    "    masked_sentence = []\n",
    "\n",
    "    # Initialize a flag to exclude special tokens\n",
    "    exclude_special_tokens = True\n",
    "\n",
    "    for token in tokens:\n",
    "        # Check if the token is a special token (CLS or SEP)\n",
    "        is_special_token = token in (tokenizer.cls_token_id, tokenizer.sep_token_id)\n",
    "\n",
    "        if exclude_special_tokens and is_special_token:\n",
    "            continue  # Skip special tokens\n",
    "        else:\n",
    "            # Convert the token to an index using your vocabulary mapping\n",
    "            inputs = torch.tensor([token], dtype=torch.long)\n",
    "            with torch.no_grad():\n",
    "                outputs = model(inputs)\n",
    "                predicted_prob = outputs.item()\n",
    "                # Check if the token is a punctuation mark\n",
    "                is_punctuation = tokenizer.convert_ids_to_tokens(token) in punctuation_set\n",
    "                if predicted_prob > toxic_threshold and not is_punctuation:\n",
    "                    masked_sentence.append(103) # mask token\n",
    "                else:\n",
    "                    masked_sentence.append(token)\n",
    "\n",
    "    # Use tokenizer.decode to reconstruct the sentence\n",
    "    reconstructed_sentence = tokenizer.decode(masked_sentence)\n",
    "\n",
    "    # Print the original sentence and the reconstructed sentence\n",
    "    print(\"Original Sentence:\")\n",
    "    print(sentence)\n",
    "    print(\"Reconstructed Sentence:\")\n",
    "    print(reconstructed_sentence)\n",
    "\n",
    "    temp += 1\n",
    "    if temp > 10:\n",
    "        break"
   ],
   "metadata": {
    "collapsed": false
   }
  },
  {
   "cell_type": "code",
   "execution_count": 9,
   "outputs": [],
   "source": [
    "def get_non_toxic_synonym(word):\n",
    "    synonyms = wordnet.synsets(word)\n",
    "    if synonyms:\n",
    "        valid_synonyms = [synonym.lemmas()[0].name() for synonym in synonyms if synonym.lemmas()[0].name() != word and synonym.lemmas()[0].name() != '[UNK]']\n",
    "        if valid_synonyms:\n",
    "            return valid_synonyms[0]\n",
    "    return word  # If no valid synonyms found, return the original word"
   ],
   "metadata": {
    "collapsed": false
   }
  },
  {
   "cell_type": "code",
   "execution_count": 10,
   "outputs": [
    {
     "name": "stderr",
     "output_type": "stream",
     "text": [
      "100%|██████████| 108569/108569 [01:01<00:00, 1755.73it/s]\n"
     ]
    }
   ],
   "source": [
    "import string\n",
    "import nltk\n",
    "from nltk.corpus import wordnet\n",
    "\n",
    "# Extract and process the first 5 sentences\n",
    "sentences = df['reference'].tolist()\n",
    "recon = []\n",
    "\n",
    "# Define a threshold for toxic word prediction (adjust as needed)\n",
    "toxic_threshold = 0.7\n",
    "temp = 0\n",
    "\n",
    "# Define a set of punctuation marks\n",
    "punctuation_set = set(string.punctuation)\n",
    "\n",
    "model.eval()\n",
    "\n",
    "# Process and replace toxic words with synonyms\n",
    "for sentence in tqdm(sentences):\n",
    "    encoded_dict = tokenizer(sentence)\n",
    "    tokens = encoded_dict['input_ids']\n",
    "    replaced_sentence = []\n",
    "\n",
    "    # Initialize a flag to exclude special tokens\n",
    "    exclude_special_tokens = True\n",
    "\n",
    "    for token in tokens:\n",
    "        # Check if the token is a special token (CLS or SEP)\n",
    "        is_special_token = token in (tokenizer.cls_token_id, tokenizer.sep_token_id)\n",
    "\n",
    "        if exclude_special_tokens and is_special_token:\n",
    "            continue  # Skip special tokens\n",
    "        else:\n",
    "            # Convert the token to an index using your vocabulary mapping\n",
    "            inputs = torch.tensor([token], dtype=torch.long)\n",
    "            with torch.no_grad():\n",
    "                outputs = model(inputs)\n",
    "                predicted_prob = outputs.item()\n",
    "                # Check if the token is a punctuation mark\n",
    "                is_punctuation = tokenizer.convert_ids_to_tokens(token) in punctuation_set\n",
    "                if predicted_prob > toxic_threshold and not is_punctuation:\n",
    "                    # Replace toxic word with a non-toxic synonym\n",
    "                    word = tokenizer.convert_ids_to_tokens(token)\n",
    "                    non_toxic_synonym = get_non_toxic_synonym(word)\n",
    "                    if non_toxic_synonym in tokenizer.vocab:\n",
    "                        for element in tokenizer(non_toxic_synonym)['input_ids'][1:-1]:\n",
    "                            replaced_sentence.append(element)\n",
    "                    else:\n",
    "                        replaced_sentence.append(token)\n",
    "                else:\n",
    "                    replaced_sentence.append(token)\n",
    "\n",
    "    # Use tokenizer.decode to reconstruct the sentence\n",
    "    reconstructed_sentence = tokenizer.decode(replaced_sentence)\n",
    "\n",
    "    # Print the original sentence and the reconstructed sentenc\n",
    "    recon.append((sentence, reconstructed_sentence))"
   ],
   "metadata": {
    "collapsed": false
   }
  },
  {
   "cell_type": "code",
   "execution_count": 11,
   "outputs": [],
   "source": [
    "import pickle\n",
    "# Specify the filename for saving the list\n",
    "file_name = 'recon.pkl'\n",
    "\n",
    "# Save the list to a file using pickle\n",
    "with open(file_name, 'wb') as file:\n",
    "    pickle.dump(recon, file)"
   ],
   "metadata": {
    "collapsed": false
   }
  },
  {
   "cell_type": "code",
   "execution_count": 12,
   "outputs": [],
   "source": [
    "# Specify the filename from which to load the list\n",
    "file_name = 'recon.pkl'\n",
    "\n",
    "recon = []\n",
    "\n",
    "# Load the list from the file using pickle\n",
    "with open(file_name, 'rb') as file:\n",
    "    recon = pickle.load(file)"
   ],
   "metadata": {
    "collapsed": false
   }
  },
  {
   "cell_type": "code",
   "execution_count": 13,
   "outputs": [
    {
     "name": "stdout",
     "output_type": "stream",
     "text": [
      "Original sentence: Real life starts the first time you fuck, kid.\n",
      "Non-toxic sentence: real life starts the first time you fuck, kid.\n",
      "Original sentence: Hey, leave the poor bastard alone!\n",
      "Non-toxic sentence: hey, leave the poor asshole entirely!\n",
      "Original sentence: It told you this was a waste of my fucking time.\n",
      "Non-toxic sentence: it told you this was a waste of my fuck time.\n",
      "Original sentence: I swear to God, the best thing I ever did in my life was save that little son of a bitch\n",
      "Non-toxic sentence: i swear to god, the best matter i ever did in my life was save that small son of a bitch\n",
      "Original sentence: The guy is totally irresponsible.\n",
      "Non-toxic sentence: the guy is wholly ir # # responsible.\n",
      "Original sentence: \"Do you want to die?\" he said.\n",
      "Non-toxic sentence: \" bash you want to fail? \" helium said.\n",
      "Original sentence: Does anal...\n",
      "Non-toxic sentence: does anal...\n",
      "Original sentence: Your girlfriends are dead.\n",
      "Non-toxic sentence: your girlfriends are dead.\n",
      "Original sentence: Mikael was braver, or more foolhardy!\n",
      "Non-toxic sentence: mika # # el was braver, or more foolhard # # y!\n",
      "Original sentence: What the hell is going on?\n",
      "Non-toxic sentence: what the hell is going along?\n",
      "Original sentence: I don't have to do shit.\n",
      "Non-toxic sentence: i don't have to bash crap.\n"
     ]
    }
   ],
   "source": [
    "for i, rec in enumerate(recon):\n",
    "    print(\"Original sentence:\", rec[0])\n",
    "    print(\"Non-toxic sentence:\", rec[1])\n",
    "    if i == 10:\n",
    "        break"
   ],
   "metadata": {
    "collapsed": false
   }
  },
  {
   "cell_type": "code",
   "execution_count": 14,
   "outputs": [
    {
     "name": "stderr",
     "output_type": "stream",
     "text": [
      "[nltk_data] Downloading package stopwords to\n",
      "[nltk_data]     /Users/damirabdulaev/nltk_data...\n",
      "[nltk_data]   Package stopwords is already up-to-date!\n",
      "[nltk_data] Downloading package punkt to\n",
      "[nltk_data]     /Users/damirabdulaev/nltk_data...\n",
      "[nltk_data]   Package punkt is already up-to-date!\n"
     ]
    },
    {
     "data": {
      "text/plain": "True"
     },
     "execution_count": 14,
     "metadata": {},
     "output_type": "execute_result"
    }
   ],
   "source": [
    "nltk.download('stopwords')\n",
    "nltk.download('punkt')"
   ],
   "metadata": {
    "collapsed": false
   }
  },
  {
   "cell_type": "code",
   "execution_count": 15,
   "outputs": [
    {
     "name": "stdout",
     "output_type": "stream",
     "text": [
      "Mean cosine similarity of the original and detox sentences: 0.8215615626705213\n"
     ]
    }
   ],
   "source": [
    "from sklearn.feature_extraction.text import CountVectorizer\n",
    "from sklearn.metrics.pairwise import cosine_similarity\n",
    "import nltk\n",
    "from nltk.tokenize import sent_tokenize, word_tokenize\n",
    "import nltk\n",
    "from nltk.corpus import stopwords\n",
    "from sklearn.feature_extraction.text import TfidfVectorizer\n",
    "from sklearn.metrics.pairwise import cosine_similarity\n",
    "\n",
    "# Extract the pairs of sentences from the tuples\n",
    "original = [sentence[0] for sentence in recon[:1000]]\n",
    "detox = [sentence[1] for sentence in recon[:1000]]\n",
    "\n",
    "# Initialize the TF-IDF vectorizer\n",
    "tfidf_vectorizer = TfidfVectorizer()\n",
    "\n",
    "# Combine the sentences for each array\n",
    "original_sentences = [' '.join(sentence.split()) for sentence in original]\n",
    "detox_sentences = [' '.join(sentence.split()) for sentence in detox]\n",
    "\n",
    "# Fit and transform the sentences to TF-IDF vectors\n",
    "original_tfidf = tfidf_vectorizer.fit_transform(original_sentences)\n",
    "detox_tfidf = tfidf_vectorizer.transform(detox_sentences)\n",
    "\n",
    "# Calculate cosine similarity for the corresponding sentences\n",
    "cosine_similarities = cosine_similarity(original_tfidf, detox_tfidf)\n",
    "\n",
    "cosine_similarity_sum = 0\n",
    "for i, sim in enumerate(cosine_similarities):\n",
    "    cosine_similarity_sum += sim[i]\n",
    "\n",
    "print(\"Mean cosine similarity of the original and detox sentences:\", cosine_similarity_sum / len(cosine_similarities))"
   ],
   "metadata": {
    "collapsed": false
   }
  },
  {
   "cell_type": "code",
   "execution_count": 16,
   "outputs": [
    {
     "name": "stdout",
     "output_type": "stream",
     "text": [
      "Calculating style of predictions\n"
     ]
    },
    {
     "name": "stderr",
     "output_type": "stream",
     "text": [
      "Some weights of the model checkpoint at SkolkovoInstitute/roberta_toxicity_classifier were not used when initializing RobertaForSequenceClassification: ['roberta.pooler.dense.bias', 'roberta.pooler.dense.weight']\n",
      "- This IS expected if you are initializing RobertaForSequenceClassification from the checkpoint of a model trained on another task or with another architecture (e.g. initializing a BertForSequenceClassification model from a BertForPreTraining model).\n",
      "- This IS NOT expected if you are initializing RobertaForSequenceClassification from the checkpoint of a model that you expect to be exactly identical (initializing a BertForSequenceClassification model from a BertForSequenceClassification model).\n",
      "100%|██████████| 1000/1000 [00:30<00:00, 32.37it/s]\n"
     ]
    },
    {
     "name": "stdout",
     "output_type": "stream",
     "text": [
      "0.3469421966112059\n",
      "Calculate the semantic similarity\n",
      "0.8252710278630256\n",
      "Calculating CoLA acceptability stats\n"
     ]
    },
    {
     "data": {
      "text/plain": "  0%|          | 0/1000 [00:00<?, ?it/s]",
      "application/vnd.jupyter.widget-view+json": {
       "version_major": 2,
       "version_minor": 0,
       "model_id": "e896c415ea6f4c0b9b2b431b1fd377e7"
      }
     },
     "metadata": {},
     "output_type": "display_data"
    },
    {
     "name": "stdout",
     "output_type": "stream",
     "text": [
      "0.9271976281367242\n",
      "| ACC | SIM | FL | J |\n",
      "\n",
      "|0.3469|0.8253|0.9272|0.2655|\n",
      "\n"
     ]
    }
   ],
   "source": [
    "from J_metric import J\n",
    "\n",
    "result = J(original, detox)  # Call the J function with appropriate arguments"
   ],
   "metadata": {
    "collapsed": false
   }
  },
  {
   "cell_type": "code",
   "execution_count": 17,
   "outputs": [
    {
     "data": {
      "text/plain": "<Figure size 640x480 with 1 Axes>",
      "image/png": "[encoded data removed]"
     },
     "metadata": {},
     "output_type": "display_data"
    }
   ],
   "source": [
    "from bar_chart_for_metric import build_chart\n",
    "\n",
    "data = [0.3469, 0.8253, 0.9272, 0.2655]\n",
    "\n",
    "build_chart(data, \"Hypothesis2\", '/Users/damirabdulaev/Desktop/Hypothesis2.png')"
   ],
   "metadata": {
    "collapsed": false
   }
  },
  {
   "cell_type": "code",
   "execution_count": null,
   "outputs": [],
   "source": [],
   "metadata": {
    "collapsed": false
   }
  }
 ],
 "metadata": {
  "kernelspec": {
   "display_name": "Python 3",
   "language": "python",
   "name": "python3"
  },
  "language_info": {
   "codemirror_mode": {
    "name": "ipython",
    "version": 2
   },
   "file_extension": ".py",
   "mimetype": "text/x-python",
   "name": "python",
   "nbconvert_exporter": "python",
   "pygments_lexer": "ipython2",
   "version": "2.7.6"
  }
 },
 "nbformat": 4,
 "nbformat_minor": 0
}
