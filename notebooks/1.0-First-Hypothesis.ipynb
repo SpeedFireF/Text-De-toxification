{
 "cells": [
  {
   "cell_type": "code",
   "execution_count": 1,
   "metadata": {
    "collapsed": true
   },
   "outputs": [],
   "source": [
    "from nn_toxic_words_classifier import train_model\n",
    "from nn_toxic_words_classifier import load_model\n",
    "\n",
    "# model = train_model()\n",
    "# Or load the weights:\n",
    "model = load_model()"
   ]
  },
  {
   "cell_type": "code",
   "execution_count": 2,
   "outputs": [
    {
     "data": {
      "text/plain": "    Unnamed: 0                                          reference   \n22          22     Real life starts the first time you fuck, kid.  \\\n29          29                 Hey, leave the poor bastard alone!   \n41          41   It told you this was a waste of my fucking time.   \n43          43  I swear to God, the best thing I ever did in m...   \n48          48                  The guy is totally irresponsible.   \n\n                                          translation  similarity   \n22                    boy, real life starts up first.    0.866697  \\\n29                          leave the poor man alone!    0.857554   \n41            I told you this was a waste of my time.    0.904062   \n43  I swear to God, the best thing I've ever done ...    0.932305   \n48                     he's completely irresponsible.    0.862266   \n\n    lenght_diff   ref_tox   trn_tox  \n22     0.319149  0.998222  0.000114  \n29     0.257143  0.999382  0.000578  \n41     0.183673  0.995877  0.000479  \n43     0.022472  0.999071  0.000900  \n48     0.088235  0.643680  0.019941  ",
      "text/html": "<div>\n<style scoped>\n    .dataframe tbody tr th:only-of-type {\n        vertical-align: middle;\n    }\n\n    .dataframe tbody tr th {\n        vertical-align: top;\n    }\n\n    .dataframe thead th {\n        text-align: right;\n    }\n</style>\n<table border=\"1\" class=\"dataframe\">\n  <thead>\n    <tr style=\"text-align: right;\">\n      <th></th>\n      <th>Unnamed: 0</th>\n      <th>reference</th>\n      <th>translation</th>\n      <th>similarity</th>\n      <th>lenght_diff</th>\n      <th>ref_tox</th>\n      <th>trn_tox</th>\n    </tr>\n  </thead>\n  <tbody>\n    <tr>\n      <th>22</th>\n      <td>22</td>\n      <td>Real life starts the first time you fuck, kid.</td>\n      <td>boy, real life starts up first.</td>\n      <td>0.866697</td>\n      <td>0.319149</td>\n      <td>0.998222</td>\n      <td>0.000114</td>\n    </tr>\n    <tr>\n      <th>29</th>\n      <td>29</td>\n      <td>Hey, leave the poor bastard alone!</td>\n      <td>leave the poor man alone!</td>\n      <td>0.857554</td>\n      <td>0.257143</td>\n      <td>0.999382</td>\n      <td>0.000578</td>\n    </tr>\n    <tr>\n      <th>41</th>\n      <td>41</td>\n      <td>It told you this was a waste of my fucking time.</td>\n      <td>I told you this was a waste of my time.</td>\n      <td>0.904062</td>\n      <td>0.183673</td>\n      <td>0.995877</td>\n      <td>0.000479</td>\n    </tr>\n    <tr>\n      <th>43</th>\n      <td>43</td>\n      <td>I swear to God, the best thing I ever did in m...</td>\n      <td>I swear to God, the best thing I've ever done ...</td>\n      <td>0.932305</td>\n      <td>0.022472</td>\n      <td>0.999071</td>\n      <td>0.000900</td>\n    </tr>\n    <tr>\n      <th>48</th>\n      <td>48</td>\n      <td>The guy is totally irresponsible.</td>\n      <td>he's completely irresponsible.</td>\n      <td>0.862266</td>\n      <td>0.088235</td>\n      <td>0.643680</td>\n      <td>0.019941</td>\n    </tr>\n  </tbody>\n</table>\n</div>"
     },
     "execution_count": 2,
     "metadata": {},
     "output_type": "execute_result"
    }
   ],
   "source": [
    "import pandas as pd\n",
    "\n",
    "dataset_path = '/Users/damirabdulaev/Downloads/filtered.tsv'\n",
    "df = pd.read_csv(dataset_path, sep='\\t')\n",
    "df = df[(df['similarity'] > 0.8) & (df['ref_tox'] > df['trn_tox'])]\n",
    "df.head(5)"
   ],
   "metadata": {
    "collapsed": false
   }
  },
  {
   "cell_type": "code",
   "execution_count": 3,
   "outputs": [
    {
     "name": "stderr",
     "output_type": "stream",
     "text": [
      "100%|██████████| 108569/108569 [00:41<00:00, 2600.40it/s]\n"
     ]
    }
   ],
   "source": [
    "from nn_toxic_words_classifier import build_tokenizer\n",
    "import string\n",
    "from tqdm import tqdm\n",
    "import torch\n",
    "import torch.nn as nn\n",
    "import torch.optim as optim\n",
    "\n",
    "tokenizer = build_tokenizer()[0]\n",
    "\n",
    "recon = []\n",
    "\n",
    "# Extract and process the first 5 sentences\n",
    "sentences = df['reference'].tolist()\n",
    "\n",
    "# Define a threshold for toxic word prediction (adjust as needed)\n",
    "toxic_threshold = 0.8\n",
    "temp = 0\n",
    "\n",
    "# Define a set of punctuation marks\n",
    "punctuation_set = set(string.punctuation)\n",
    "\n",
    "model.eval()\n",
    "\n",
    "# Process and replace toxic words\n",
    "for sentence in tqdm(sentences):\n",
    "    encoded_dict = tokenizer(sentence)\n",
    "    tokens = encoded_dict['input_ids']\n",
    "    masked_sentence = []\n",
    "\n",
    "    # Initialize a flag to exclude special tokens\n",
    "    exclude_special_tokens = True\n",
    "\n",
    "    for token in tokens:\n",
    "        # Check if the token is a special token (CLS or SEP)\n",
    "        is_special_token = token in (tokenizer.cls_token_id, tokenizer.sep_token_id)\n",
    "\n",
    "        if exclude_special_tokens and is_special_token:\n",
    "            continue  # Skip special tokens\n",
    "        else:\n",
    "            # Convert the token to an index using your vocabulary mapping\n",
    "            inputs = torch.tensor([token], dtype=torch.long)\n",
    "            with torch.no_grad():\n",
    "                outputs = model(inputs)\n",
    "                predicted_prob = outputs.item()\n",
    "                # Check if the token is a punctuation mark\n",
    "                is_punctuation = tokenizer.convert_ids_to_tokens(token) in punctuation_set\n",
    "                if predicted_prob > toxic_threshold and not is_punctuation:\n",
    "                    masked_sentence.append(1008)\n",
    "                else:\n",
    "                    masked_sentence.append(token)\n",
    "\n",
    "    # Use tokenizer.decode to reconstruct the sentence\n",
    "    reconstructed_sentence = tokenizer.decode(masked_sentence)\n",
    "\n",
    "    # Print the original sentence and the reconstructed sentenc\n",
    "    recon.append((sentence, reconstructed_sentence))"
   ],
   "metadata": {
    "collapsed": false
   }
  },
  {
   "cell_type": "code",
   "execution_count": 4,
   "outputs": [
    {
     "name": "stdout",
     "output_type": "stream",
     "text": [
      "Calculating style of predictions\n"
     ]
    },
    {
     "name": "stderr",
     "output_type": "stream",
     "text": [
      "Some weights of the model checkpoint at SkolkovoInstitute/roberta_toxicity_classifier were not used when initializing RobertaForSequenceClassification: ['roberta.pooler.dense.bias', 'roberta.pooler.dense.weight']\n",
      "- This IS expected if you are initializing RobertaForSequenceClassification from the checkpoint of a model trained on another task or with another architecture (e.g. initializing a BertForSequenceClassification model from a BertForPreTraining model).\n",
      "- This IS NOT expected if you are initializing RobertaForSequenceClassification from the checkpoint of a model that you expect to be exactly identical (initializing a BertForSequenceClassification model from a BertForSequenceClassification model).\n",
      "100%|██████████| 1000/1000 [00:32<00:00, 30.47it/s]\n"
     ]
    },
    {
     "name": "stdout",
     "output_type": "stream",
     "text": [
      "0.7788414127813085\n",
      "Calculate the semantic similarity\n",
      "0.7077348559945822\n",
      "Calculating CoLA acceptability stats\n"
     ]
    },
    {
     "data": {
      "text/plain": "  0%|          | 0/1000 [00:00<?, ?it/s]",
      "application/vnd.jupyter.widget-view+json": {
       "version_major": 2,
       "version_minor": 0,
       "model_id": "23b7140cfbb243c6ab049b7324db3df8"
      }
     },
     "metadata": {},
     "output_type": "display_data"
    },
    {
     "name": "stdout",
     "output_type": "stream",
     "text": [
      "0.9271976281367242\n",
      "| ACC | SIM | FL | J |\n",
      "\n",
      "|0.7788|0.7077|0.9272|0.5111|\n",
      "\n"
     ]
    }
   ],
   "source": [
    "from J_metric import J\n",
    "\n",
    "# Extract the pairs of sentences from the tuples\n",
    "original = [sentence[0] for sentence in recon[:1000]]\n",
    "detox = [sentence[1] for sentence in recon[:1000]]\n",
    "\n",
    "result = J(original, detox)  # Call the J function with appropriate arguments"
   ],
   "metadata": {
    "collapsed": false
   }
  },
  {
   "cell_type": "code",
   "execution_count": 5,
   "outputs": [
    {
     "data": {
      "text/plain": "<Figure size 640x480 with 1 Axes>",
      "image/png": "[encoded data removed]"
     },
     "metadata": {},
     "output_type": "display_data"
    }
   ],
   "source": [
    "from bar_chart_for_metric import build_chart\n",
    "\n",
    "data = [0.7788, 0.7077, 0.9272, 0.5111]\n",
    "\n",
    "build_chart(data, \"Hypothesis1\", '/Users/damirabdulaev/Desktop/Hypothesis1.png')"
   ],
   "metadata": {
    "collapsed": false
   }
  },
  {
   "cell_type": "code",
   "execution_count": null,
   "outputs": [],
   "source": [],
   "metadata": {
    "collapsed": false
   }
  }
 ],
 "metadata": {
  "kernelspec": {
   "display_name": "Python 3",
   "language": "python",
   "name": "python3"
  },
  "language_info": {
   "codemirror_mode": {
    "name": "ipython",
    "version": 2
   },
   "file_extension": ".py",
   "mimetype": "text/x-python",
   "name": "python",
   "nbconvert_exporter": "python",
   "pygments_lexer": "ipython2",
   "version": "2.7.6"
  }
 },
 "nbformat": 4,
 "nbformat_minor": 0
}
